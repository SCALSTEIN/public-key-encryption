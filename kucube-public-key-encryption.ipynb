{
  "nbformat": 4,
  "nbformat_minor": 0,
  "metadata": {
    "colab": {
      "name": "KUCUBE PUBLIC KEY ENCRYPTION",
      "private_outputs": true,
      "provenance": [],
      "collapsed_sections": [],
      "authorship_tag": "ABX9TyPjYB2bwgPXpsYRgE6v2+/o"
    },
    "kernelspec": {
      "name": "python3",
      "display_name": "Python 3"
    },
    "language_info": {
      "name": "python"
    }
  },
  "cells": [
    {
      "cell_type": "markdown",
      "metadata": {
        "id": "G_CWTa5xo326"
      },
      "source": [
        "Diffie-Hellman Key Exchange + ElGamal Encryption"
      ]
    },
    {
      "cell_type": "code",
      "metadata": {
        "id": "LQWCL4CrcQru"
      },
      "source": [
        "import math\n",
        "import random\n",
        "from sympy import randprime, isprime, Mod\n",
        "import hashlib"
      ],
      "execution_count": null,
      "outputs": []
    },
    {
      "cell_type": "markdown",
      "metadata": {
        "id": "IgQJvfIGhRD1"
      },
      "source": [
        "Let a,b be positive integers. Then there exists integers X,Y such that Xa+Yb=gcd(a,b).\n",
        "\n",
        "Furthermore, gcd(a,b) is the smallest positive integer that can be expressed in this way"
      ]
    },
    {
      "cell_type": "code",
      "metadata": {
        "id": "JxbsPuEIhaLp"
      },
      "source": [
        "def egcd(a, b):\n",
        "    x,y, u,v = 0,1, 1,0\n",
        "    while a != 0:\n",
        "        q, r = b//a, b%a\n",
        "        m, n = x-u*q, y-v*q\n",
        "        b,a, x,y, u,v = a,r, u,v, m,n\n",
        "    gcd = b\n",
        "    return gcd, x, y"
      ],
      "execution_count": null,
      "outputs": []
    },
    {
      "cell_type": "code",
      "metadata": {
        "id": "PLw26Lfahxy5"
      },
      "source": [
        "a = 10\n",
        "b = 21\n",
        "\n",
        "gcd, x, y = egcd(a, b)"
      ],
      "execution_count": null,
      "outputs": []
    },
    {
      "cell_type": "code",
      "metadata": {
        "id": "fKtVcgSTiQV5"
      },
      "source": [
        "print(a, \"*\", x, \"+\", b, \"*\", y, \"=\", math.gcd(a,b))\n",
        "a * x + b * y"
      ],
      "execution_count": null,
      "outputs": []
    },
    {
      "cell_type": "markdown",
      "metadata": {
        "id": "RPWTF05JiWxD"
      },
      "source": [
        "If for b there exists an integer b−1 such that bb−1=1modN then we call:\n",
        "\n",
        "b invertible\n",
        "\n",
        "b−1 modular inverse of b modulo N\n",
        "\n",
        "Proposition 7.7 Let a,N be integers, with N>1. Then a is invertible modulo N if and only if gcd(a,N)=1."
      ]
    },
    {
      "cell_type": "code",
      "metadata": {
        "id": "Tkk2irHHifaK"
      },
      "source": [
        ""
      ],
      "execution_count": null,
      "outputs": []
    },
    {
      "cell_type": "markdown",
      "metadata": {
        "id": "CFQvIQQOihgp"
      },
      "source": [
        "A group is a set G along with a binary operation ⊕ for which the following conditions hold:\n",
        "\n",
        "(Closure:) For all g,h∈G, g⊕h∈G\n",
        "\n",
        "(Existance of an Identity:) There exists an identity e∈G such that for all g∈G, e⊕g=g=g⊕e.\n",
        "\n",
        "(Existence of Inverses:) For all g∈G there exists an element h∈G such that g⊕h=e\n",
        "\n",
        "(Associativity:) For all g1,g2,g3∈G, (g1⊕g2)⊕g3=g1⊕(g2⊕g3).\n",
        "\n",
        "If G has finite number of elements →G is a finite group\n",
        "\n",
        "|G| - order of the group - number of elements in G\n",
        "\n",
        "G is abelian if for all g,h∈G,g⊕h=h⊕g\n",
        "\n",
        "Z+n=(Zn,+)=({0,1,…,n−1},+modn) for n≥2 is an abelian group of order |Z+n|=n\n",
        "\n",
        "Z∗n=({a:gcd(a,n)=1},⋅modn). If n is prime: Z∗p=(Zp,⋅)=({1,…,p−1},⋅modp) for p prime is an abelian group of order |Z∗p|=p−1\n",
        "\n",
        "Z∗n=({a:gcd(a,n)=1},⋅modn).\n",
        "\n",
        "Let n=p⋅q, p,q are primes -- an abelian group of order |Z∗pq|=(p−1)(q−1)"
      ]
    },
    {
      "cell_type": "markdown",
      "metadata": {
        "id": "bXAv2OztivJc"
      },
      "source": [
        "Let G be a finite group of order m.\n",
        "\n",
        "Let g∈G, consider the set:\n",
        "⟨g⟩={g0,g1,…}\n",
        "\n",
        "From Theorem 7.14 we have gm=1.\n",
        "\n",
        "Let i≤m be the smallest positive integer for which gi=1.\n",
        "\n",
        "Then the sequence repeats after i terms, so:\n",
        "⟨g⟩={g0,…,gi−1}\n",
        "\n",
        "The set contains exactly i elements since:\n",
        "\n",
        "if gj=gk with 0≤j<k<i\n",
        "\n",
        "then gk−j=1 and 0<k−j<i (contradicting choice of i).\n",
        "\n",
        "G=Z∗11\n",
        "\n",
        "⟨2⟩=⟨6⟩=⟨7⟩=⟨8⟩=G\n",
        "\n",
        "Def: A primitive root of G is such a g∈G that ⟨g⟩=G\n",
        "\n",
        "⟨g⟩ is a subgroup of G\n",
        "\n",
        "inverse of gx is gi−x\n",
        "\n",
        "Z∗n=({a:gcd(a,n)=1},⋅modn)"
      ]
    },
    {
      "cell_type": "code",
      "metadata": {
        "id": "iWZ2B2wujFN5"
      },
      "source": [
        "def group(n):\n",
        "    G = []\n",
        "    m = 0\n",
        "    for a in range(n):\n",
        "        if math.gcd(a, n) == 1:\n",
        "            G.append(a)\n",
        "            m = m + 1\n",
        "    return G, m\n",
        "\n",
        "n = 11\n",
        "group(n)"
      ],
      "execution_count": null,
      "outputs": []
    },
    {
      "cell_type": "code",
      "metadata": {
        "id": "t_2VW7PkjNHq"
      },
      "source": [
        "def subgroup(g, n, m):\n",
        "    H = {}\n",
        "    for i in range(m):\n",
        "        H[(g ** i % n)] = 1\n",
        "    return H\n",
        "\n",
        "p = 11\n",
        "gs = subgroup(2, p, p-1)\n",
        "\n",
        "print(gs.keys(), len(gs))"
      ],
      "execution_count": null,
      "outputs": []
    },
    {
      "cell_type": "code",
      "metadata": {
        "id": "M0rI2o0BjVf0"
      },
      "source": [
        "p, q = 11, 13\n",
        "n, m = p * q, (p-1)*(q-1)\n",
        "#n = 11\n",
        "#m = n - 1\n",
        "print(\"Group Z\",n,\"* order: \", m)\n",
        "#pint(group(n))\n",
        "for i in range(n):\n",
        "    if math.gcd(i, n) == 1:\n",
        "        w = subgroup(i, n, m)\n",
        "        print(\"Element \", i, \"order:\", len(w))\n",
        "        #print(w.keys())"
      ],
      "execution_count": null,
      "outputs": []
    },
    {
      "cell_type": "code",
      "metadata": {
        "id": "t-4RVJXgjZtK"
      },
      "source": [
        ""
      ],
      "execution_count": null,
      "outputs": []
    },
    {
      "cell_type": "markdown",
      "metadata": {
        "id": "CNm3J6zXjauB"
      },
      "source": [
        "Let  G  be a finite group and  g∈G . The order of  g  is the smallest positive integer  i  with  gi=1"
      ]
    },
    {
      "cell_type": "code",
      "metadata": {
        "id": "TuGtTzPgjfWy"
      },
      "source": [
        "def order(g, n):\n",
        "    o = 1\n",
        "    while g ** o % n != 1:\n",
        "        o = o + 1\n",
        "    return o\n",
        "\n",
        "order(10, 11)"
      ],
      "execution_count": null,
      "outputs": []
    },
    {
      "cell_type": "code",
      "metadata": {
        "id": "X1QIf_epjiyc"
      },
      "source": [
        "x = random.randint(2, 2*q - 1)\n",
        "q = 11\n",
        "p = 2 * q  + 1\n",
        "g = x ** 2 % p\n",
        "print(x, g)\n",
        "#groupOrder = p - 1\n",
        "#subgroup orders: divisors of p - 1 = 2q -> 1, 2, q, 2q\n",
        "print(group(p))\n",
        "print(order(g, p))\n",
        "print(list(subgroup(g, p, p-1).keys()))"
      ],
      "execution_count": null,
      "outputs": []
    },
    {
      "cell_type": "code",
      "metadata": {
        "id": "xcxmQMrDjnjM"
      },
      "source": [
        "for g in [3, 9, 4, 12, 13, 16, 2, 6, 18, 8]:\n",
        "    print(list(subgroup(g, p, p - 1).keys()))\n",
        "    "
      ],
      "execution_count": null,
      "outputs": []
    },
    {
      "cell_type": "markdown",
      "metadata": {
        "id": "b_Gk1KbHjpHa"
      },
      "source": [
        " Let G be a finite group of order m, and say g∈G has order i then i|m.\n",
        "\n",
        "Def. Let G be a group of order m, if there exists an element g∈G such that order of g is equal m then we call g a group generator and we call G a cyclic group.\n",
        "\n",
        "Corollary 7.52 If G is a group of prime order p, then G is cyclic.\n",
        "\n",
        "Furthermore, all elements of G except the identity are generators of G.\n",
        "\n",
        "Theorem 7.53 If p is prime then Z∗p is cyclic.\n",
        "\n",
        "n=p, p prime; the group order m=p−1\n",
        "\n",
        "what if we find g such that ord(g) is prime?\n",
        "\n",
        "\"recipe\":\n",
        "\n",
        "q - prime\n",
        "p=2q+1 be sure that is prime\n",
        "then go with Z∗p"
      ]
    },
    {
      "cell_type": "code",
      "metadata": {
        "id": "wks9WHWmjtyS"
      },
      "source": [
        "q = 11\n",
        "p = 2 * q + 1\n",
        "m = 2 * q\n",
        "print(q, p)\n",
        "g = 2\n",
        "#print(group(p))\n",
        "print(subgroup(g, p, p-1).keys())\n",
        "print(order(g, p))"
      ],
      "execution_count": null,
      "outputs": []
    },
    {
      "cell_type": "code",
      "metadata": {
        "id": "OXAuna4DjwKK"
      },
      "source": [
        "for g in [2, 4, 8, 16, 9, 18, 13, 3, 6, 12]:\n",
        "    print(list(subgroup(g, p, p-1).keys()), len(subgroup(g, p, p-1)))"
      ],
      "execution_count": null,
      "outputs": []
    },
    {
      "cell_type": "code",
      "metadata": {
        "id": "ibqCl0Onj2Bp"
      },
      "source": [
        "p = 23\n",
        "for a in range(2,p-1):\n",
        "    aa = a ** 2 % p\n",
        "    print(a, \"->\", aa, \"<\",aa,\"> = \", list(subgroup(aa, p, p-1)) )"
      ],
      "execution_count": null,
      "outputs": []
    },
    {
      "cell_type": "markdown",
      "metadata": {
        "id": "X_wDQN3Kj-sP"
      },
      "source": [
        "QR∗p={a:(∃g∈Z∗p)a=g2modp}\n",
        "\n",
        "DLOGA,G(n):\n",
        "\n",
        "Run G(1n) to obtain (G,q,g):\n",
        "G - cyclic group\n",
        "q - group order\n",
        "g - generator\n",
        "Choose h←G\n",
        "x←A(G,q,g,h)\n",
        "Output is 1 if gx=h"
      ]
    },
    {
      "cell_type": "markdown",
      "metadata": {
        "id": "kfRuOr3MkCPh"
      },
      "source": [
        " We say that the discrete logarithm problem is hard relative to G if for all PPT algorithms A there exists a negligible function negl such that\n",
        "P[DLOGA,G(n)=1]≤negl."
      ]
    },
    {
      "cell_type": "markdown",
      "metadata": {
        "id": "pfQkj3mfkGPZ"
      },
      "source": [
        "Fix a cyclic group G and a generator g∈G. Given h1,h2, define\n",
        "DHg(h1,h2)=gloggh1⋅loggh2\n",
        "\n",
        "If X=gx and Y=gy then\n",
        "DHg(X,Y)=gx⋅y=Xy=Yx."
      ]
    },
    {
      "cell_type": "markdown",
      "metadata": {
        "id": "sWFuAcFQkLz5"
      },
      "source": [
        " We say that DDH problem is hard relative to G if for all PPT algorithms A there exists a negligible function negl such that\n",
        "|P[A(G,q,g,gx,gy,gz)=1]−P[A(G,q,g,gx,gy,gxy)=1|≤negl,\n",
        "where in each case the probabilities are taken over the experiment in which G(1n) outputs (G,q,g), and then random x,y,z∈Zq are chosen."
      ]
    },
    {
      "cell_type": "code",
      "metadata": {
        "id": "QtC-TrX8kSlp"
      },
      "source": [
        ""
      ],
      "execution_count": null,
      "outputs": []
    },
    {
      "cell_type": "markdown",
      "metadata": {
        "id": "jL9hji0ikX5S"
      },
      "source": [
        "Prime-Order Groups\n",
        "Cyclic groups:\n",
        "\n",
        "prime order\n",
        "non-prime order\n",
        "Pohling-Hellman algorithm for Discrete Log\n",
        "\n",
        "group of order q=q1⋅q2→ Discrete Log Problem in q1 and q2"
      ]
    },
    {
      "cell_type": "markdown",
      "metadata": {
        "id": "HODTiTW8kdA0"
      },
      "source": [
        "Generator generation"
      ]
    },
    {
      "cell_type": "code",
      "metadata": {
        "id": "K1mQBPTNkf_4"
      },
      "source": [
        "def genSecurePrime(a, b):\n",
        "    a = False\n",
        "    while a is False:\n",
        "        p = randprime(a, b)\n",
        "        q = 2 * p  + 1\n",
        "        a = isprime(q)\n",
        "    return p, q\n",
        "\n",
        "p, q = genSecurePrime(30, 200)\n",
        "print(p, q)"
      ],
      "execution_count": null,
      "outputs": []
    },
    {
      "cell_type": "code",
      "metadata": {
        "id": "trj2QT1xkmAJ"
      },
      "source": [
        "print(\"Group: \", group(q))\n",
        "\n",
        "x = random.randint(2, 2 * p - 1)\n",
        "print(\"Random: \", x)\n",
        "g = x ** 2 % q\n",
        "print(\"Random generator: \", g, \"?\")\n",
        "\n",
        "S = subgroup(g, q, q -1)\n",
        "print(\"Generated subgroup: \", S.keys())\n",
        "print(\"(sub)group order: \", len(S))\n",
        "print(order(g, q))"
      ],
      "execution_count": null,
      "outputs": []
    },
    {
      "cell_type": "markdown",
      "metadata": {
        "id": "XRX_sIL0krbQ"
      },
      "source": [
        "Diffie-Hellman Key Exchange\n",
        "Diffie Hellman Key Exchange G - cyclic group of order p g - a group generator\n",
        "\n",
        "Pascal:\n",
        "x←R1,…,p\n",
        "X=gx\n",
        "Pascal−→XAllan\n",
        "Allan:\n",
        "y←R1,…,p\n",
        "Y=gy\n",
        "Pascal←YAllan\n",
        "Pascal:\n",
        "za=Yx=(gy)x=gyx\n",
        "Allan:\n",
        "zb=Xy=(gx)y=gxy\n",
        "Computational Diffie-Hellman (CDH)\n",
        "\n",
        "Fix a cyclic group G and a generator g∈G. Given h1,h2, define\n",
        "DHg(h1,h2)=gloggh1⋅loggh2\n",
        "\n",
        "If X=gx and Y=gy then\n",
        "DHg(X,Y)=gx⋅y=Xy=Yx.\n",
        "\n",
        "Shared key:\n",
        "\n",
        "ka=h(za)\n",
        "kb=h(zb)\n",
        "\"Magic\":\n",
        "\n",
        "ka=kb"
      ]
    },
    {
      "cell_type": "code",
      "metadata": {
        "id": "uEMkm5RtlWLH"
      },
      "source": [
        "def genGen(q):\n",
        "    x = random.randint(2, q - 2)\n",
        "    return x ** 2 % q"
      ],
      "execution_count": null,
      "outputs": []
    },
    {
      "cell_type": "code",
      "metadata": {
        "id": "4Ye-m_UxlZdo"
      },
      "source": [
        "g = genGen(q)\n",
        "print(g)\n",
        "print(order(g, q))"
      ],
      "execution_count": null,
      "outputs": []
    },
    {
      "cell_type": "code",
      "metadata": {
        "id": "4Jh5Cg_glayB"
      },
      "source": [
        "def DH_Key_Gen(g, q):\n",
        "        x = random.randint(1, (q - 1) // 2)\n",
        "        return x, g ** x % q"
      ],
      "execution_count": null,
      "outputs": []
    },
    {
      "cell_type": "code",
      "metadata": {
        "id": "6b7d8dMElfXW"
      },
      "source": [
        "x, X = DH_Key_Gen(g, q) # Alice\n",
        "\n",
        "y, Y = DH_Key_Gen(g, q) # Bob\n",
        "\n",
        "za = Y ** x % q # Alice computes\n",
        "\n",
        "zb = X ** y % q # Bob computes\n",
        "\n",
        "print(g, q) # Eve knows\n",
        "print(X, Y) # Eve knows"
      ],
      "execution_count": null,
      "outputs": []
    },
    {
      "cell_type": "markdown",
      "metadata": {
        "id": "z5UwPCvxlj9x"
      },
      "source": [
        "A passive adversary's view:\n",
        "\n",
        "G,g,X,Y\n",
        "Security:\n",
        "\n",
        "Can an adversary compute k?"
      ]
    },
    {
      "cell_type": "code",
      "metadata": {
        "id": "y9xse1iFlmu6"
      },
      "source": [
        "ha = hashlib.new('sha3_256')\n",
        "hb = hashlib.new('sha3_256')\n",
        "\n",
        "ha.update(za.to_bytes(2, 'big'))\n",
        "hb.update(zb.to_bytes(2, 'big'))\n",
        "\n",
        "print(ha.hexdigest())\n",
        "print(hb.hexdigest())"
      ],
      "execution_count": null,
      "outputs": []
    },
    {
      "cell_type": "markdown",
      "metadata": {
        "id": "Taq9tt75lvb8"
      },
      "source": [
        "ElGamal encryption"
      ]
    },
    {
      "cell_type": "markdown",
      "metadata": {
        "id": "mML67IeHl5WH"
      },
      "source": [
        "KeyGen(1n):\n",
        "\n",
        "p←RPrimes(n)\n",
        "x←R{1,…,p−2}\n",
        "g←PrimitiveRoots(p)\n",
        "X←gxmodp privKey = x / pubKey = p,g,X"
      ]
    },
    {
      "cell_type": "code",
      "metadata": {
        "id": "evss73ugl9OQ"
      },
      "source": [
        "def gen(sec):\n",
        "    n = len(sec)\n",
        "    pp, p = genSecurePrime(2 ** n, 2 ** (n+1) - 1)\n",
        "    g = 3\n",
        "    while order(g, p) < (p-2)//2:\n",
        "        g = random.randint(2, p-1)\n",
        "    x = random.randint(1, p - 2)\n",
        "    X = (g ** x) % p\n",
        "    return g, X, p, x\n",
        "    \n",
        "def genP(sec, p):\n",
        "    g = 3\n",
        "    while order(g, p) < (p-2)//2:\n",
        "        g = random.randint(2, p-1)\n",
        "    x = random.randint(1, p - 2)\n",
        "    X = (g ** x) % p\n",
        "    return g, X, p, x    \n",
        "    \n",
        "    \n",
        "    "
      ],
      "execution_count": null,
      "outputs": []
    },
    {
      "cell_type": "markdown",
      "metadata": {
        "id": "q8XRJ_vnmD83"
      },
      "source": [
        "Enc(m,pubKey):\n",
        "\n",
        "y←R{1,…,p−2}\n",
        "return (gy,mXy)"
      ]
    },
    {
      "cell_type": "code",
      "metadata": {
        "id": "Kl-GagVWmHFL"
      },
      "source": [
        "def enc(m, pub_key):\n",
        "    g, X, p = pub_key\n",
        "    y = random.randint(1, p-2)\n",
        "    Y = g ** y % p\n",
        "    return Y, m * (X ** y % p) % p\n",
        "\n",
        "\n"
      ],
      "execution_count": null,
      "outputs": []
    },
    {
      "cell_type": "markdown",
      "metadata": {
        "id": "ILvnHRYomJn_"
      },
      "source": [
        "Dec(α,β), privKey, pubKey):\n",
        "\n",
        "a = p - 1 - x\n",
        "return αaβmodp\n",
        "αaβ=YamXy=mgyagxy=mg−yxgxy=m"
      ]
    },
    {
      "cell_type": "code",
      "metadata": {
        "id": "0aIuUljEmQ5H"
      },
      "source": [
        "def dec(c, priv_key):\n",
        "    g, X, p, x = priv_key\n",
        "    alpha, beta = c\n",
        "    a = 2 * p - 2 - x\n",
        "    return (((alpha ** a) % p) * beta) % p"
      ],
      "execution_count": null,
      "outputs": []
    },
    {
      "cell_type": "code",
      "metadata": {
        "id": "Y3rOjhrfmfWX"
      },
      "source": [
        ""
      ],
      "execution_count": null,
      "outputs": []
    },
    {
      "cell_type": "code",
      "metadata": {
        "cell_style": "split",
        "id": "N9At95I0cQsD"
      },
      "source": [
        "g, X, p, x = gen(\"111111\")\n",
        "\n",
        "print(g, X, p, x)"
      ],
      "execution_count": null,
      "outputs": []
    },
    {
      "cell_type": "code",
      "metadata": {
        "id": "I6r2mfZFmimi"
      },
      "source": [
        "p = 107\n",
        "g, X, p, x = genP(\"asd\", p)\n",
        "print(g, X, p, x)\n",
        "\n",
        "#plaintext = random.randint(1, p-1)\n",
        "#print(plaintext)\n",
        "plaintext = 73"
      ],
      "execution_count": null,
      "outputs": []
    },
    {
      "cell_type": "code",
      "metadata": {
        "id": "7ocbKS8cmmDB"
      },
      "source": [
        "ct = enc(plaintext, [g, X, p])\n",
        "print(ct)\n"
      ],
      "execution_count": null,
      "outputs": []
    },
    {
      "cell_type": "code",
      "metadata": {
        "id": "7QlG72x7mnKP"
      },
      "source": [
        "decrypted = dec(ct, [g, X, p, x])\n",
        "print(decrypted)"
      ],
      "execution_count": null,
      "outputs": []
    },
    {
      "cell_type": "code",
      "metadata": {
        "id": "eEHrwVKwmsL5"
      },
      "source": [
        "x, y = [], []\n",
        "t = 2000\n",
        "for i in range(t):\n",
        "    ct = enc(plaintext, [g, X, p])\n",
        "    xa, ya = ct\n",
        "    x.append(xa)\n",
        "    y.append(ya)\n",
        "    \n",
        "    \n",
        "    \n",
        "    \n"
      ],
      "execution_count": null,
      "outputs": []
    },
    {
      "cell_type": "code",
      "metadata": {
        "id": "QNoNVtzFmuR6"
      },
      "source": [
        ""
      ],
      "execution_count": null,
      "outputs": []
    },
    {
      "cell_type": "code",
      "metadata": {
        "id": "EuRxNcoYmva3"
      },
      "source": [
        "import matplotlib.pyplot as plt\n",
        "fig = plt.figure()\n",
        "#plt.plot(x, y, '.r')\n",
        "plt.hist2d(x, y, bins=(p, p))\n",
        "cbar = plt.colorbar()\n",
        "cbar.ax.set_ylabel('Counts')"
      ],
      "execution_count": null,
      "outputs": []
    },
    {
      "cell_type": "code",
      "metadata": {
        "id": "xPBpRD6JmzMT"
      },
      "source": [
        "import matplotlib.pyplot as plt\n",
        "fig = plt.figure()\n",
        "#plt.plot(x, y, '.r')\n",
        "plt.hist2d(x, y, bins=(p, p))\n",
        "cbar = plt.colorbar()\n",
        "cbar.ax.set_ylabel('Counts')"
      ],
      "execution_count": null,
      "outputs": []
    },
    {
      "cell_type": "markdown",
      "metadata": {
        "id": "RjrCFbG7m3nr"
      },
      "source": [
        "Generalized ElGamal\n",
        "multiplicative group Z∗p\n",
        "multiplicative group F∗2m of the finite field F2m of characteristic two\n",
        "group of points on an elliptic curve over a finite field\n",
        "multiplicative group F∗q of the finite field Fq where q=pm, p is a prime\n",
        "the group of units Z∗n where n is a composite integer\n",
        "the jacobian of a hyperelliptic curve defined over a finite field\n",
        "the class group of an imaginary quadratic number field"
      ]
    },
    {
      "cell_type": "markdown",
      "metadata": {
        "id": "91qebzaxm6D3"
      },
      "source": [
        "Cryptographic commitments"
      ]
    },
    {
      "cell_type": "markdown",
      "metadata": {
        "cell_style": "split",
        "id": "mj_6lLQ9cQsH"
      },
      "source": [
        "## Example\n",
        "\n",
        "### Coin tossing over the internet\n",
        "\n",
        "Participants:\n",
        "\n",
        "* $\\mathcal{A}$\n",
        "* $\\mathcal{B}$\n",
        "\n",
        "Goal:\n",
        "\n",
        "* select uniformly at random a bit $b \\leftarrow_R \\{0, 1\\}$\n",
        "\n",
        "Naive apprach (does not work):\n",
        "\n",
        "1. $\\mathcal{A}(b_{\\mathcal{A}}) \\xrightarrow{b_{\\mathcal{A}}} \\mathcal{B}$\n",
        "2. $\\mathcal{A} \\xleftarrow{b_{\\mathcal{B}}} \\mathcal{B}(b_{\\mathcal{B}})$\n",
        "3. both compute $b = b_{\\mathcal{A}} \\oplus b_{\\mathcal{B}}$\n",
        "\n",
        "\n",
        "\n",
        "Why it is not secure? \n",
        "\n",
        "What does secure mean in this context?\n",
        "\n",
        "\n",
        "\n",
        "\n"
      ]
    },
    {
      "cell_type": "markdown",
      "metadata": {
        "id": "GrWIyCM7nWNU"
      },
      "source": [
        ""
      ]
    },
    {
      "cell_type": "markdown",
      "metadata": {
        "cell_style": "split",
        "id": "SPNyEHkacQsI"
      },
      "source": [
        "1. $\\mathcal{A}:$ commits to $b_{\\mathcal{A}}$, sends $c =$ Comm($b_{\\mathcal{A}}, r$) to $\\mathcal{B}$\n",
        "\n",
        "$\\mathcal{A} \\xrightarrow{c} \\mathcal{B}$"
      ]
    },
    {
      "cell_type": "code",
      "metadata": {
        "id": "Zt2lZ8E_nRxH"
      },
      "source": [
        ""
      ],
      "execution_count": null,
      "outputs": []
    }
  ]
}